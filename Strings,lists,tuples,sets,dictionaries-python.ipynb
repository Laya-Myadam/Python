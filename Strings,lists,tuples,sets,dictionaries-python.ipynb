{
 "cells": [
  {
   "cell_type": "code",
   "execution_count": 4,
   "id": "77c57670-ddb9-42c6-b71d-83af7a19d140",
   "metadata": {},
   "outputs": [
    {
     "name": "stdout",
     "output_type": "stream",
     "text": [
      "Hello World Jack's World Hello World  New String \n"
     ]
    }
   ],
   "source": [
    "message = 'Hello World'\n",
    "message_1='Jack\\'s World'\n",
    "message_2=\"Hello World\"\n",
    "message_3=\"\"\" New String \"\"\"\n",
    "\n",
    "print(message,message_1,message_2,message_3)"
   ]
  },
  {
   "cell_type": "code",
   "execution_count": 5,
   "id": "02885d39-a902-4679-a364-57a06ea56f76",
   "metadata": {},
   "outputs": [
    {
     "data": {
      "text/plain": [
       "11"
      ]
     },
     "execution_count": 5,
     "metadata": {},
     "output_type": "execute_result"
    }
   ],
   "source": [
    "len(message)"
   ]
  },
  {
   "cell_type": "code",
   "execution_count": 8,
   "id": "a4d9a747-2d48-417d-a4df-f89a40c35838",
   "metadata": {},
   "outputs": [
    {
     "name": "stdout",
     "output_type": "stream",
     "text": [
      "e\n"
     ]
    }
   ],
   "source": [
    "print(message[1])\n",
    "#index of the string"
   ]
  },
  {
   "cell_type": "code",
   "execution_count": 12,
   "id": "6883b2ca-7e03-4681-ae6e-d7bd76f1161c",
   "metadata": {},
   "outputs": [
    {
     "name": "stdout",
     "output_type": "stream",
     "text": [
      "Hello\n",
      "Hello\n",
      "World\n"
     ]
    }
   ],
   "source": [
    "#message[start-range: end-range-1]\n",
    "print(message[0:5])\n",
    "print(message[:5])\n",
    "print(message[6:])"
   ]
  },
  {
   "cell_type": "code",
   "execution_count": 13,
   "id": "16bfd059-f2c7-4093-81c7-3cd14685486c",
   "metadata": {},
   "outputs": [
    {
     "name": "stdout",
     "output_type": "stream",
     "text": [
      "hello world\n"
     ]
    }
   ],
   "source": [
    "print(message.lower())"
   ]
  },
  {
   "cell_type": "code",
   "execution_count": 14,
   "id": "76ea7db5-1bb1-468f-a3f7-ece6b461e3c2",
   "metadata": {},
   "outputs": [
    {
     "data": {
      "text/plain": [
       "'HELLO WORLD'"
      ]
     },
     "execution_count": 14,
     "metadata": {},
     "output_type": "execute_result"
    }
   ],
   "source": [
    "message.upper()"
   ]
  },
  {
   "cell_type": "code",
   "execution_count": 19,
   "id": "64ec5307-4055-4089-811a-70cfec975433",
   "metadata": {},
   "outputs": [
    {
     "name": "stdout",
     "output_type": "stream",
     "text": [
      "Hello World\n"
     ]
    }
   ],
   "source": [
    "message.count('H')\n",
    "print(message)"
   ]
  },
  {
   "cell_type": "code",
   "execution_count": 22,
   "id": "f2295c74-3ef1-4fdf-9884-0fa35472277c",
   "metadata": {},
   "outputs": [
    {
     "name": "stdout",
     "output_type": "stream",
     "text": [
      "Hello Earth\n"
     ]
    }
   ],
   "source": [
    "new_message = message.replace('World','Earth')\n",
    "print(new_message)"
   ]
  },
  {
   "cell_type": "code",
   "execution_count": 28,
   "id": "2a4d6ecb-c3d7-4dbe-be02-f5292de25f87",
   "metadata": {},
   "outputs": [
    {
     "name": "stdout",
     "output_type": "stream",
     "text": [
      "Hi, Man, Welcome!\n"
     ]
    }
   ],
   "source": [
    "a='Hi'\n",
    "b='Man'\n",
    "\n",
    "message = '{}, {}, Welcome!'.format(a,b)\n",
    "print(message)"
   ]
  },
  {
   "cell_type": "code",
   "execution_count": 30,
   "id": "cacb0329-c7d6-452d-82aa-5a134269530f",
   "metadata": {},
   "outputs": [
    {
     "name": "stdout",
     "output_type": "stream",
     "text": [
      "Hi, Man, Welcome!\n"
     ]
    }
   ],
   "source": [
    "message = f'{a}, {b}, Welcome!'\n",
    "print(message)"
   ]
  },
  {
   "cell_type": "code",
   "execution_count": 31,
   "id": "ea82d03a-153f-479d-986e-bbb327ca2f21",
   "metadata": {},
   "outputs": [
    {
     "name": "stdout",
     "output_type": "stream",
     "text": [
      "hi, MAN, Welcome!\n"
     ]
    }
   ],
   "source": [
    "message = f'{a.lower()}, {b.upper()}, Welcome!'\n",
    "print(message)"
   ]
  },
  {
   "cell_type": "code",
   "execution_count": 32,
   "id": "c1eb1ecc-a19f-4883-936d-1885661d2497",
   "metadata": {},
   "outputs": [
    {
     "name": "stdout",
     "output_type": "stream",
     "text": [
      "['__add__', '__class__', '__contains__', '__delattr__', '__dir__', '__doc__', '__eq__', '__format__', '__ge__', '__getattribute__', '__getitem__', '__getnewargs__', '__getstate__', '__gt__', '__hash__', '__init__', '__init_subclass__', '__iter__', '__le__', '__len__', '__lt__', '__mod__', '__mul__', '__ne__', '__new__', '__reduce__', '__reduce_ex__', '__repr__', '__rmod__', '__rmul__', '__setattr__', '__sizeof__', '__str__', '__subclasshook__', 'capitalize', 'casefold', 'center', 'count', 'encode', 'endswith', 'expandtabs', 'find', 'format', 'format_map', 'index', 'isalnum', 'isalpha', 'isascii', 'isdecimal', 'isdigit', 'isidentifier', 'islower', 'isnumeric', 'isprintable', 'isspace', 'istitle', 'isupper', 'join', 'ljust', 'lower', 'lstrip', 'maketrans', 'partition', 'removeprefix', 'removesuffix', 'replace', 'rfind', 'rindex', 'rjust', 'rpartition', 'rsplit', 'rstrip', 'split', 'splitlines', 'startswith', 'strip', 'swapcase', 'title', 'translate', 'upper', 'zfill']\n"
     ]
    }
   ],
   "source": [
    "print(dir(a))"
   ]
  },
  {
   "cell_type": "code",
   "execution_count": 35,
   "id": "9b667ded-227b-40e9-b743-cd2d2af41312",
   "metadata": {},
   "outputs": [
    {
     "name": "stdout",
     "output_type": "stream",
     "text": [
      "Help on class int in module builtins:\n",
      "\n",
      "class int(object)\n",
      " |  int([x]) -> integer\n",
      " |  int(x, base=10) -> integer\n",
      " |  \n",
      " |  Convert a number or string to an integer, or return 0 if no arguments\n",
      " |  are given.  If x is a number, return x.__int__().  For floating point\n",
      " |  numbers, this truncates towards zero.\n",
      " |  \n",
      " |  If x is not a number or if base is given, then x must be a string,\n",
      " |  bytes, or bytearray instance representing an integer literal in the\n",
      " |  given base.  The literal can be preceded by '+' or '-' and be surrounded\n",
      " |  by whitespace.  The base defaults to 10.  Valid bases are 0 and 2-36.\n",
      " |  Base 0 means to interpret the base from the string as an integer literal.\n",
      " |  >>> int('0b100', base=0)\n",
      " |  4\n",
      " |  \n",
      " |  Built-in subclasses:\n",
      " |      bool\n",
      " |  \n",
      " |  Methods defined here:\n",
      " |  \n",
      " |  __abs__(self, /)\n",
      " |      abs(self)\n",
      " |  \n",
      " |  __add__(self, value, /)\n",
      " |      Return self+value.\n",
      " |  \n",
      " |  __and__(self, value, /)\n",
      " |      Return self&value.\n",
      " |  \n",
      " |  __bool__(self, /)\n",
      " |      True if self else False\n",
      " |  \n",
      " |  __ceil__(...)\n",
      " |      Ceiling of an Integral returns itself.\n",
      " |  \n",
      " |  __divmod__(self, value, /)\n",
      " |      Return divmod(self, value).\n",
      " |  \n",
      " |  __eq__(self, value, /)\n",
      " |      Return self==value.\n",
      " |  \n",
      " |  __float__(self, /)\n",
      " |      float(self)\n",
      " |  \n",
      " |  __floor__(...)\n",
      " |      Flooring an Integral returns itself.\n",
      " |  \n",
      " |  __floordiv__(self, value, /)\n",
      " |      Return self//value.\n",
      " |  \n",
      " |  __format__(self, format_spec, /)\n",
      " |      Default object formatter.\n",
      " |  \n",
      " |  __ge__(self, value, /)\n",
      " |      Return self>=value.\n",
      " |  \n",
      " |  __getattribute__(self, name, /)\n",
      " |      Return getattr(self, name).\n",
      " |  \n",
      " |  __getnewargs__(self, /)\n",
      " |  \n",
      " |  __gt__(self, value, /)\n",
      " |      Return self>value.\n",
      " |  \n",
      " |  __hash__(self, /)\n",
      " |      Return hash(self).\n",
      " |  \n",
      " |  __index__(self, /)\n",
      " |      Return self converted to an integer, if self is suitable for use as an index into a list.\n",
      " |  \n",
      " |  __int__(self, /)\n",
      " |      int(self)\n",
      " |  \n",
      " |  __invert__(self, /)\n",
      " |      ~self\n",
      " |  \n",
      " |  __le__(self, value, /)\n",
      " |      Return self<=value.\n",
      " |  \n",
      " |  __lshift__(self, value, /)\n",
      " |      Return self<<value.\n",
      " |  \n",
      " |  __lt__(self, value, /)\n",
      " |      Return self<value.\n",
      " |  \n",
      " |  __mod__(self, value, /)\n",
      " |      Return self%value.\n",
      " |  \n",
      " |  __mul__(self, value, /)\n",
      " |      Return self*value.\n",
      " |  \n",
      " |  __ne__(self, value, /)\n",
      " |      Return self!=value.\n",
      " |  \n",
      " |  __neg__(self, /)\n",
      " |      -self\n",
      " |  \n",
      " |  __or__(self, value, /)\n",
      " |      Return self|value.\n",
      " |  \n",
      " |  __pos__(self, /)\n",
      " |      +self\n",
      " |  \n",
      " |  __pow__(self, value, mod=None, /)\n",
      " |      Return pow(self, value, mod).\n",
      " |  \n",
      " |  __radd__(self, value, /)\n",
      " |      Return value+self.\n",
      " |  \n",
      " |  __rand__(self, value, /)\n",
      " |      Return value&self.\n",
      " |  \n",
      " |  __rdivmod__(self, value, /)\n",
      " |      Return divmod(value, self).\n",
      " |  \n",
      " |  __repr__(self, /)\n",
      " |      Return repr(self).\n",
      " |  \n",
      " |  __rfloordiv__(self, value, /)\n",
      " |      Return value//self.\n",
      " |  \n",
      " |  __rlshift__(self, value, /)\n",
      " |      Return value<<self.\n",
      " |  \n",
      " |  __rmod__(self, value, /)\n",
      " |      Return value%self.\n",
      " |  \n",
      " |  __rmul__(self, value, /)\n",
      " |      Return value*self.\n",
      " |  \n",
      " |  __ror__(self, value, /)\n",
      " |      Return value|self.\n",
      " |  \n",
      " |  __round__(...)\n",
      " |      Rounding an Integral returns itself.\n",
      " |      \n",
      " |      Rounding with an ndigits argument also returns an integer.\n",
      " |  \n",
      " |  __rpow__(self, value, mod=None, /)\n",
      " |      Return pow(value, self, mod).\n",
      " |  \n",
      " |  __rrshift__(self, value, /)\n",
      " |      Return value>>self.\n",
      " |  \n",
      " |  __rshift__(self, value, /)\n",
      " |      Return self>>value.\n",
      " |  \n",
      " |  __rsub__(self, value, /)\n",
      " |      Return value-self.\n",
      " |  \n",
      " |  __rtruediv__(self, value, /)\n",
      " |      Return value/self.\n",
      " |  \n",
      " |  __rxor__(self, value, /)\n",
      " |      Return value^self.\n",
      " |  \n",
      " |  __sizeof__(self, /)\n",
      " |      Returns size in memory, in bytes.\n",
      " |  \n",
      " |  __sub__(self, value, /)\n",
      " |      Return self-value.\n",
      " |  \n",
      " |  __truediv__(self, value, /)\n",
      " |      Return self/value.\n",
      " |  \n",
      " |  __trunc__(...)\n",
      " |      Truncating an Integral returns itself.\n",
      " |  \n",
      " |  __xor__(self, value, /)\n",
      " |      Return self^value.\n",
      " |  \n",
      " |  as_integer_ratio(self, /)\n",
      " |      Return integer ratio.\n",
      " |      \n",
      " |      Return a pair of integers, whose ratio is exactly equal to the original int\n",
      " |      and with a positive denominator.\n",
      " |      \n",
      " |      >>> (10).as_integer_ratio()\n",
      " |      (10, 1)\n",
      " |      >>> (-10).as_integer_ratio()\n",
      " |      (-10, 1)\n",
      " |      >>> (0).as_integer_ratio()\n",
      " |      (0, 1)\n",
      " |  \n",
      " |  bit_count(self, /)\n",
      " |      Number of ones in the binary representation of the absolute value of self.\n",
      " |      \n",
      " |      Also known as the population count.\n",
      " |      \n",
      " |      >>> bin(13)\n",
      " |      '0b1101'\n",
      " |      >>> (13).bit_count()\n",
      " |      3\n",
      " |  \n",
      " |  bit_length(self, /)\n",
      " |      Number of bits necessary to represent self in binary.\n",
      " |      \n",
      " |      >>> bin(37)\n",
      " |      '0b100101'\n",
      " |      >>> (37).bit_length()\n",
      " |      6\n",
      " |  \n",
      " |  conjugate(...)\n",
      " |      Returns self, the complex conjugate of any int.\n",
      " |  \n",
      " |  to_bytes(self, /, length=1, byteorder='big', *, signed=False)\n",
      " |      Return an array of bytes representing an integer.\n",
      " |      \n",
      " |      length\n",
      " |        Length of bytes object to use.  An OverflowError is raised if the\n",
      " |        integer is not representable with the given number of bytes.  Default\n",
      " |        is length 1.\n",
      " |      byteorder\n",
      " |        The byte order used to represent the integer.  If byteorder is 'big',\n",
      " |        the most significant byte is at the beginning of the byte array.  If\n",
      " |        byteorder is 'little', the most significant byte is at the end of the\n",
      " |        byte array.  To request the native byte order of the host system, use\n",
      " |        `sys.byteorder' as the byte order value.  Default is to use 'big'.\n",
      " |      signed\n",
      " |        Determines whether two's complement is used to represent the integer.\n",
      " |        If signed is False and a negative integer is given, an OverflowError\n",
      " |        is raised.\n",
      " |  \n",
      " |  ----------------------------------------------------------------------\n",
      " |  Class methods defined here:\n",
      " |  \n",
      " |  from_bytes(bytes, byteorder='big', *, signed=False) from builtins.type\n",
      " |      Return the integer represented by the given array of bytes.\n",
      " |      \n",
      " |      bytes\n",
      " |        Holds the array of bytes to convert.  The argument must either\n",
      " |        support the buffer protocol or be an iterable object producing bytes.\n",
      " |        Bytes and bytearray are examples of built-in objects that support the\n",
      " |        buffer protocol.\n",
      " |      byteorder\n",
      " |        The byte order used to represent the integer.  If byteorder is 'big',\n",
      " |        the most significant byte is at the beginning of the byte array.  If\n",
      " |        byteorder is 'little', the most significant byte is at the end of the\n",
      " |        byte array.  To request the native byte order of the host system, use\n",
      " |        `sys.byteorder' as the byte order value.  Default is to use 'big'.\n",
      " |      signed\n",
      " |        Indicates whether two's complement is used to represent the integer.\n",
      " |  \n",
      " |  ----------------------------------------------------------------------\n",
      " |  Static methods defined here:\n",
      " |  \n",
      " |  __new__(*args, **kwargs) from builtins.type\n",
      " |      Create and return a new object.  See help(type) for accurate signature.\n",
      " |  \n",
      " |  ----------------------------------------------------------------------\n",
      " |  Data descriptors defined here:\n",
      " |  \n",
      " |  denominator\n",
      " |      the denominator of a rational number in lowest terms\n",
      " |  \n",
      " |  imag\n",
      " |      the imaginary part of a complex number\n",
      " |  \n",
      " |  numerator\n",
      " |      the numerator of a rational number in lowest terms\n",
      " |  \n",
      " |  real\n",
      " |      the real part of a complex number\n",
      "\n",
      "None\n"
     ]
    }
   ],
   "source": [
    "print(help(int))"
   ]
  },
  {
   "cell_type": "code",
   "execution_count": 36,
   "id": "15f08b97-92ca-431a-be21-e20385f32ea4",
   "metadata": {},
   "outputs": [],
   "source": [
    "#Lists, Tuples, Sets"
   ]
  },
  {
   "cell_type": "code",
   "execution_count": 38,
   "id": "eb5861a7-6166-48da-bc30-0ab9812a75d1",
   "metadata": {},
   "outputs": [
    {
     "name": "stdout",
     "output_type": "stream",
     "text": [
      "['CS', 'ME', 'EE', 'EC', 'Civil']\n",
      "5\n"
     ]
    }
   ],
   "source": [
    "courses = [\"CS\",\"ME\",\"EE\",\"EC\",\"Civil\"]\n",
    "print(courses)\n",
    "print(len(courses))"
   ]
  },
  {
   "cell_type": "code",
   "execution_count": 39,
   "id": "e5d05226-1f09-47af-a50a-eef36e21cc5d",
   "metadata": {},
   "outputs": [
    {
     "name": "stdout",
     "output_type": "stream",
     "text": [
      "CS\n"
     ]
    }
   ],
   "source": [
    "print(courses[0])"
   ]
  },
  {
   "cell_type": "code",
   "execution_count": 40,
   "id": "3da0f64b-5ed9-4215-806d-82c6360f743e",
   "metadata": {},
   "outputs": [
    {
     "name": "stdout",
     "output_type": "stream",
     "text": [
      "Civil\n"
     ]
    }
   ],
   "source": [
    "print(courses[-1])"
   ]
  },
  {
   "cell_type": "code",
   "execution_count": 41,
   "id": "e09437d7-e6f4-400a-89f5-5e743383ca61",
   "metadata": {},
   "outputs": [
    {
     "name": "stdout",
     "output_type": "stream",
     "text": [
      "EE\n"
     ]
    }
   ],
   "source": [
    "print(courses[-3])"
   ]
  },
  {
   "cell_type": "code",
   "execution_count": 42,
   "id": "ab4afd21-fbfc-4453-bf33-babdab09b782",
   "metadata": {},
   "outputs": [
    {
     "name": "stdout",
     "output_type": "stream",
     "text": [
      "['CS', 'ME', 'EE']\n"
     ]
    }
   ],
   "source": [
    "print(courses[0:3])"
   ]
  },
  {
   "cell_type": "code",
   "execution_count": 43,
   "id": "9da86b19-9fbb-4466-b5f1-62c7f6264786",
   "metadata": {},
   "outputs": [
    {
     "name": "stdout",
     "output_type": "stream",
     "text": [
      "['ME', 'EE', 'EC', 'Civil']\n"
     ]
    }
   ],
   "source": [
    "print(courses[1:])"
   ]
  },
  {
   "cell_type": "code",
   "execution_count": 44,
   "id": "cec115fe-2116-4460-803f-b2847bdd21e7",
   "metadata": {},
   "outputs": [],
   "source": [
    "#List Methods\n"
   ]
  },
  {
   "cell_type": "code",
   "execution_count": 45,
   "id": "c72f0f85-bcaf-43be-8071-6d0b658f6158",
   "metadata": {},
   "outputs": [],
   "source": [
    "courses.append(\"EEE\")"
   ]
  },
  {
   "cell_type": "code",
   "execution_count": 46,
   "id": "b9f46ef0-9b95-4a66-a0bc-22e5cd47fe17",
   "metadata": {},
   "outputs": [
    {
     "name": "stdout",
     "output_type": "stream",
     "text": [
      "['CS', 'ME', 'EE', 'EC', 'Civil', 'EEE']\n"
     ]
    }
   ],
   "source": [
    "print(courses)"
   ]
  },
  {
   "cell_type": "code",
   "execution_count": 47,
   "id": "51ca50a5-e195-4ede-b04e-e2f634082970",
   "metadata": {},
   "outputs": [],
   "source": [
    "courses.insert(0,'Art')"
   ]
  },
  {
   "cell_type": "code",
   "execution_count": 48,
   "id": "214a087f-c6d6-4763-b712-ace9e84dca6e",
   "metadata": {},
   "outputs": [
    {
     "name": "stdout",
     "output_type": "stream",
     "text": [
      "['Art', 'CS', 'ME', 'EE', 'EC', 'Civil', 'EEE']\n"
     ]
    }
   ],
   "source": [
    "print(courses)"
   ]
  },
  {
   "cell_type": "code",
   "execution_count": 51,
   "id": "a1d65d46-0064-4c7a-89e9-4dd2478d2e6f",
   "metadata": {},
   "outputs": [],
   "source": [
    "#List within a list\n",
    "courses_1 = ['Music','Biology']\n",
    "courses.insert(0,courses_1)"
   ]
  },
  {
   "cell_type": "code",
   "execution_count": 52,
   "id": "b7715851-e6b2-4bcb-8b33-68c58a509294",
   "metadata": {},
   "outputs": [
    {
     "name": "stdout",
     "output_type": "stream",
     "text": [
      "[['Music', 'Biology'], ['Music', 'Biology'], 'Art', 'CS', 'ME', 'EE', 'EC', 'Civil', 'EEE']\n"
     ]
    }
   ],
   "source": [
    "print(courses)"
   ]
  },
  {
   "cell_type": "code",
   "execution_count": 53,
   "id": "d2947f17-5de1-412e-ab4c-49ceed9d708d",
   "metadata": {},
   "outputs": [],
   "source": [
    "courses = ['Art', 'CS', 'ME', 'EE', 'EC', 'Civil', 'EEE']"
   ]
  },
  {
   "cell_type": "code",
   "execution_count": 54,
   "id": "bdac4841-d908-4297-8669-01b3c7ea9850",
   "metadata": {},
   "outputs": [],
   "source": [
    "courses.extend(courses_1)"
   ]
  },
  {
   "cell_type": "code",
   "execution_count": 55,
   "id": "ac5429d1-65b0-47e3-9189-0fc94a47d05d",
   "metadata": {},
   "outputs": [
    {
     "name": "stdout",
     "output_type": "stream",
     "text": [
      "['Art', 'CS', 'ME', 'EE', 'EC', 'Civil', 'EEE', 'Music', 'Biology']\n"
     ]
    }
   ],
   "source": [
    "print(courses)"
   ]
  },
  {
   "cell_type": "code",
   "execution_count": 56,
   "id": "4b72de6b-0f66-4648-8605-d75a4ee5cedc",
   "metadata": {},
   "outputs": [],
   "source": [
    "courses.remove('Music')"
   ]
  },
  {
   "cell_type": "code",
   "execution_count": 57,
   "id": "6ad94dff-9699-4ecc-a0a8-13da64eb6caf",
   "metadata": {},
   "outputs": [
    {
     "name": "stdout",
     "output_type": "stream",
     "text": [
      "['Art', 'CS', 'ME', 'EE', 'EC', 'Civil', 'EEE', 'Biology']\n"
     ]
    }
   ],
   "source": [
    "print(courses)"
   ]
  },
  {
   "cell_type": "code",
   "execution_count": 58,
   "id": "0258cd12-32c7-42d6-bd8e-a061d9541208",
   "metadata": {},
   "outputs": [
    {
     "data": {
      "text/plain": [
       "'Biology'"
      ]
     },
     "execution_count": 58,
     "metadata": {},
     "output_type": "execute_result"
    }
   ],
   "source": [
    "courses.pop()"
   ]
  },
  {
   "cell_type": "code",
   "execution_count": 67,
   "id": "2b045ef0-bbaf-4fa1-9738-deefc8206fcc",
   "metadata": {},
   "outputs": [
    {
     "name": "stdout",
     "output_type": "stream",
     "text": [
      "['EEE', 'Civil', 'EC', 'EE', 'ME', 'CS', 'Art']\n"
     ]
    }
   ],
   "source": [
    "courses.reverse()\n",
    "print(courses)"
   ]
  },
  {
   "cell_type": "code",
   "execution_count": 69,
   "id": "e0afeac6-7524-473a-9764-1a4715dd4bd9",
   "metadata": {},
   "outputs": [
    {
     "name": "stdout",
     "output_type": "stream",
     "text": [
      "['Art', 'CS', 'Civil', 'EC', 'EE', 'EEE', 'ME']\n"
     ]
    }
   ],
   "source": [
    "courses.sort()\n",
    "print(courses)"
   ]
  },
  {
   "cell_type": "code",
   "execution_count": 70,
   "id": "54fbb7f5-776e-49d8-bfa6-6dd26be93c93",
   "metadata": {},
   "outputs": [
    {
     "name": "stdout",
     "output_type": "stream",
     "text": [
      "[1, 2, 3, 5, 7]\n"
     ]
    }
   ],
   "source": [
    "numbers = [1,7,5,3,2]\n",
    "numbers.sort()\n",
    "print(numbers)"
   ]
  },
  {
   "cell_type": "code",
   "execution_count": 71,
   "id": "95d593f1-ff35-44ed-b06a-b11a900df33e",
   "metadata": {},
   "outputs": [
    {
     "name": "stdout",
     "output_type": "stream",
     "text": [
      "[7, 5, 3, 2, 1]\n"
     ]
    }
   ],
   "source": [
    "numbers.sort(reverse=True)\n",
    "print(numbers)"
   ]
  },
  {
   "cell_type": "code",
   "execution_count": 72,
   "id": "f88ebf86-9465-4634-88f9-3fa2f54df845",
   "metadata": {},
   "outputs": [
    {
     "name": "stdout",
     "output_type": "stream",
     "text": [
      "[1, 2, 3, 5, 7]\n"
     ]
    }
   ],
   "source": [
    "sorted_list = sorted(numbers)\n",
    "print(sorted_list)"
   ]
  },
  {
   "cell_type": "code",
   "execution_count": 74,
   "id": "0aa20a14-df92-4bec-938b-a3f7f0bf7814",
   "metadata": {},
   "outputs": [
    {
     "name": "stdout",
     "output_type": "stream",
     "text": [
      "0 Art\n",
      "1 CS\n",
      "2 Civil\n",
      "3 EC\n",
      "4 EE\n",
      "5 EEE\n",
      "6 ME\n"
     ]
    }
   ],
   "source": [
    "for index,course in enumerate(courses):\n",
    "    print(index,course)"
   ]
  },
  {
   "cell_type": "code",
   "execution_count": 76,
   "id": "4d61c42f-b79b-4747-b44c-f3f2658f17fb",
   "metadata": {},
   "outputs": [
    {
     "name": "stdout",
     "output_type": "stream",
     "text": [
      "1 Art\n",
      "2 CS\n",
      "3 Civil\n",
      "4 EC\n",
      "5 EE\n",
      "6 EEE\n",
      "7 ME\n"
     ]
    }
   ],
   "source": [
    "for index,course in enumerate(courses,start=1):\n",
    "    print(index,course)"
   ]
  },
  {
   "cell_type": "code",
   "execution_count": 77,
   "id": "8a6fe4e2-73c7-4077-9177-ea5cfb421f58",
   "metadata": {},
   "outputs": [
    {
     "name": "stdout",
     "output_type": "stream",
     "text": [
      "Art, CS, Civil, EC, EE, EEE, ME\n"
     ]
    }
   ],
   "source": [
    "course_str = ', '.join(courses)\n",
    "print(course_str)"
   ]
  },
  {
   "cell_type": "code",
   "execution_count": 79,
   "id": "a0f91d56-d9f7-4041-9645-30573df32f0b",
   "metadata": {},
   "outputs": [
    {
     "name": "stdout",
     "output_type": "stream",
     "text": [
      "Art-CS-Civil-EC-EE-EEE-ME\n",
      "['Art', 'CS', 'Civil', 'EC', 'EE', 'EEE', 'ME']\n"
     ]
    }
   ],
   "source": [
    "course_str = '-'.join(courses)\n",
    "split_str = course_str.split('-')\n",
    "print(course_str)\n",
    "print(split_str)"
   ]
  },
  {
   "cell_type": "code",
   "execution_count": 81,
   "id": "97980d4f-75d6-47d1-9989-1889c4142d50",
   "metadata": {},
   "outputs": [],
   "source": [
    "#Tuples are immutable"
   ]
  },
  {
   "cell_type": "code",
   "execution_count": 83,
   "id": "573fce0a-03fd-44d8-84ef-a1efec4f70fe",
   "metadata": {},
   "outputs": [
    {
     "name": "stdout",
     "output_type": "stream",
     "text": [
      "['CS', 'EC', 'EE', 'ME']\n"
     ]
    }
   ],
   "source": [
    "list_1 = ['CS','EC','EE','ME']\n",
    "list_2 = list_1\n",
    "print(list_2)"
   ]
  },
  {
   "cell_type": "code",
   "execution_count": 85,
   "id": "08448159-657f-4ea7-987a-07b33deb42e6",
   "metadata": {},
   "outputs": [
    {
     "name": "stdout",
     "output_type": "stream",
     "text": [
      "('CS', 'EC', 'EE', 'ME')\n",
      "('CS', 'EC', 'EE', 'ME')\n"
     ]
    }
   ],
   "source": [
    "tuple_1 = ('CS','EC','EE','ME')\n",
    "tuple_2 = tuple_1\n",
    "print(tuple_1)\n",
    "print(tuple_2)"
   ]
  },
  {
   "cell_type": "code",
   "execution_count": 86,
   "id": "6aff03d7-8138-4dc6-b1e7-de62aeb3d259",
   "metadata": {},
   "outputs": [
    {
     "ename": "TypeError",
     "evalue": "'tuple' object does not support item assignment",
     "output_type": "error",
     "traceback": [
      "\u001b[1;31m---------------------------------------------------------------------------\u001b[0m",
      "\u001b[1;31mTypeError\u001b[0m                                 Traceback (most recent call last)",
      "Cell \u001b[1;32mIn[86], line 1\u001b[0m\n\u001b[1;32m----> 1\u001b[0m tuple_1[\u001b[38;5;241m0\u001b[39m]\u001b[38;5;241m=\u001b[39m\u001b[38;5;124m'\u001b[39m\u001b[38;5;124mMusic\u001b[39m\u001b[38;5;124m'\u001b[39m\n",
      "\u001b[1;31mTypeError\u001b[0m: 'tuple' object does not support item assignment"
     ]
    }
   ],
   "source": [
    "tuple_1[0]='Music'"
   ]
  },
  {
   "cell_type": "code",
   "execution_count": 87,
   "id": "097c2a28-bca1-49a1-9d12-dce69cb72f98",
   "metadata": {},
   "outputs": [],
   "source": [
    "#Sets(values are unordered and also doesnt have duplicates)"
   ]
  },
  {
   "cell_type": "code",
   "execution_count": 88,
   "id": "6bdd661c-1ffd-4db0-b4b5-e7f8601d3589",
   "metadata": {},
   "outputs": [
    {
     "name": "stdout",
     "output_type": "stream",
     "text": [
      "{'EC', 'CS', 'ME', 'EE'}\n"
     ]
    }
   ],
   "source": [
    "set_1 = {'CS','EC','EE','ME'}\n",
    "print(set_1)"
   ]
  },
  {
   "cell_type": "code",
   "execution_count": 92,
   "id": "2076fc90-47be-4d99-86a8-d3c55e0df16a",
   "metadata": {},
   "outputs": [
    {
     "name": "stdout",
     "output_type": "stream",
     "text": [
      "{'EC', 'CS', 'ME', 'EE'}\n"
     ]
    }
   ],
   "source": [
    "set_1 = {'CS','EC','EE','ME','CS'}\n",
    "print(set_1)"
   ]
  },
  {
   "cell_type": "code",
   "execution_count": 93,
   "id": "b564e953-61bc-449d-b108-5d8443125206",
   "metadata": {},
   "outputs": [
    {
     "name": "stdout",
     "output_type": "stream",
     "text": [
      "True\n"
     ]
    }
   ],
   "source": [
    "print('CS' in set_1)"
   ]
  },
  {
   "cell_type": "code",
   "execution_count": 95,
   "id": "7518c52c-895a-42c8-be6f-8e30fb1b5bf6",
   "metadata": {},
   "outputs": [
    {
     "name": "stdout",
     "output_type": "stream",
     "text": [
      "{'CS', 'EE'}\n",
      "{'EC', 'ME'}\n"
     ]
    }
   ],
   "source": [
    "set_2={'CS',\"EE\", 'Art'}\n",
    "print(set_1.intersection(set_2))\n",
    "print(set_1.difference(set_2))"
   ]
  },
  {
   "cell_type": "code",
   "execution_count": 96,
   "id": "7f577745-86f2-4891-b3b3-b3a71153096a",
   "metadata": {},
   "outputs": [
    {
     "name": "stdout",
     "output_type": "stream",
     "text": [
      "{'EC', 'ME', 'EE', 'CS', 'Art'}\n"
     ]
    }
   ],
   "source": [
    "print(set_1.union(set_2))"
   ]
  },
  {
   "cell_type": "code",
   "execution_count": 98,
   "id": "9772dc12-773a-4984-acd5-db9ac454fe54",
   "metadata": {},
   "outputs": [],
   "source": [
    "#Dictionaries"
   ]
  },
  {
   "cell_type": "code",
   "execution_count": 101,
   "id": "aaf32e33-af3c-42db-a524-80dadd105c50",
   "metadata": {},
   "outputs": [
    {
     "name": "stdout",
     "output_type": "stream",
     "text": [
      "{'Name': 'Aarav', 'Age': 25, 'courses': ['CS', 'Music']}\n"
     ]
    }
   ],
   "source": [
    "student = {'Name':'Aarav','Age':25, 'courses':['CS', 'Music']}\n",
    "print(student)"
   ]
  },
  {
   "cell_type": "code",
   "execution_count": 103,
   "id": "9e237f99-f966-4d32-80be-411acae07600",
   "metadata": {},
   "outputs": [
    {
     "name": "stdout",
     "output_type": "stream",
     "text": [
      "Aarav\n"
     ]
    }
   ],
   "source": [
    "print(student.get('Name'))"
   ]
  },
  {
   "cell_type": "code",
   "execution_count": 105,
   "id": "c16a39ff-35b5-4494-b20e-ec8ae61a90d3",
   "metadata": {},
   "outputs": [
    {
     "name": "stdout",
     "output_type": "stream",
     "text": [
      "None\n",
      "Not found\n"
     ]
    }
   ],
   "source": [
    "print(student.get('Phone Number'))\n",
    "print(student.get('Phone Number','Not found'))"
   ]
  },
  {
   "cell_type": "code",
   "execution_count": 108,
   "id": "189596dc-aa8a-484f-8773-b785fbc41e6d",
   "metadata": {},
   "outputs": [],
   "source": [
    "student['phoneNumber'] = '9876543210'\n",
    "student['Name']='Jathin' # update name"
   ]
  },
  {
   "cell_type": "code",
   "execution_count": 109,
   "id": "26591722-8d0d-4650-8065-434de8f97a63",
   "metadata": {},
   "outputs": [
    {
     "name": "stdout",
     "output_type": "stream",
     "text": [
      "{'Name': 'Jathin', 'Age': 25, 'courses': ['CS', 'Music'], 'phoneNumber': '9876543210'}\n"
     ]
    }
   ],
   "source": [
    "print(student)"
   ]
  },
  {
   "cell_type": "code",
   "execution_count": 111,
   "id": "f40e3e43-e414-40a4-9300-b77c60e8b05d",
   "metadata": {},
   "outputs": [],
   "source": [
    "student.update({'Name':'Praj','Age':23})"
   ]
  },
  {
   "cell_type": "code",
   "execution_count": 112,
   "id": "e2d4f8fa-cbeb-4b63-aaf8-11e625a002f4",
   "metadata": {},
   "outputs": [
    {
     "name": "stdout",
     "output_type": "stream",
     "text": [
      "{'Name': 'Praj', 'Age': 23, 'courses': ['CS', 'Music'], 'phoneNumber': '9876543210'}\n"
     ]
    }
   ],
   "source": [
    "print(student) "
   ]
  },
  {
   "cell_type": "code",
   "execution_count": 113,
   "id": "31b809c3-22b6-4dd5-b0a5-9ecb88c1ac80",
   "metadata": {},
   "outputs": [],
   "source": [
    "del student['Age']"
   ]
  },
  {
   "cell_type": "code",
   "execution_count": 114,
   "id": "39dce076-0feb-4725-9c7a-aac0a016a848",
   "metadata": {},
   "outputs": [
    {
     "name": "stdout",
     "output_type": "stream",
     "text": [
      "{'Name': 'Praj', 'courses': ['CS', 'Music'], 'phoneNumber': '9876543210'}\n"
     ]
    }
   ],
   "source": [
    "print(student)"
   ]
  },
  {
   "cell_type": "code",
   "execution_count": 115,
   "id": "aaad917d-e31c-429c-af9d-c779687ec76c",
   "metadata": {},
   "outputs": [],
   "source": [
    "student.update({'Name':'Aarav','Age':25})"
   ]
  },
  {
   "cell_type": "code",
   "execution_count": 116,
   "id": "fac5964f-d608-4817-b6a0-1697143c0a69",
   "metadata": {},
   "outputs": [
    {
     "name": "stdout",
     "output_type": "stream",
     "text": [
      "{'Name': 'Aarav', 'courses': ['CS', 'Music'], 'phoneNumber': '9876543210', 'Age': 25}\n"
     ]
    }
   ],
   "source": [
    "print(student)"
   ]
  },
  {
   "cell_type": "code",
   "execution_count": 118,
   "id": "f2d74ce9-999a-4d88-bf87-3399b9b66ef6",
   "metadata": {},
   "outputs": [
    {
     "data": {
      "text/plain": [
       "25"
      ]
     },
     "execution_count": 118,
     "metadata": {},
     "output_type": "execute_result"
    }
   ],
   "source": [
    "student.pop('Age')"
   ]
  },
  {
   "cell_type": "code",
   "execution_count": 119,
   "id": "92bfb4a6-28cb-430d-9dbc-982722bd7edc",
   "metadata": {},
   "outputs": [
    {
     "name": "stdout",
     "output_type": "stream",
     "text": [
      "{'Name': 'Aarav', 'courses': ['CS', 'Music'], 'phoneNumber': '9876543210'}\n"
     ]
    }
   ],
   "source": [
    "print(student)"
   ]
  },
  {
   "cell_type": "code",
   "execution_count": 120,
   "id": "dac9d071-4424-4903-88dc-88128ed6fda3",
   "metadata": {},
   "outputs": [
    {
     "name": "stdout",
     "output_type": "stream",
     "text": [
      "3\n"
     ]
    }
   ],
   "source": [
    "print(len(student))"
   ]
  },
  {
   "cell_type": "code",
   "execution_count": 121,
   "id": "6bb7ebe1-6dd6-4c48-a9ff-aab8a13f20cd",
   "metadata": {},
   "outputs": [
    {
     "name": "stdout",
     "output_type": "stream",
     "text": [
      "dict_keys(['Name', 'courses', 'phoneNumber'])\n"
     ]
    }
   ],
   "source": [
    "print(student.keys())"
   ]
  },
  {
   "cell_type": "code",
   "execution_count": 122,
   "id": "947ab593-d806-4bbd-acef-766e2107e71e",
   "metadata": {},
   "outputs": [
    {
     "name": "stdout",
     "output_type": "stream",
     "text": [
      "dict_values(['Aarav', ['CS', 'Music'], '9876543210'])\n"
     ]
    }
   ],
   "source": [
    "print(student.values())"
   ]
  },
  {
   "cell_type": "code",
   "execution_count": 123,
   "id": "25cc61fb-5458-4390-a19c-e0ae2a49240b",
   "metadata": {},
   "outputs": [
    {
     "name": "stdout",
     "output_type": "stream",
     "text": [
      "dict_items([('Name', 'Aarav'), ('courses', ['CS', 'Music']), ('phoneNumber', '9876543210')])\n"
     ]
    }
   ],
   "source": [
    "print(student.items())"
   ]
  },
  {
   "cell_type": "code",
   "execution_count": 124,
   "id": "f76320f5-6bc2-4947-be78-0e96955c89b8",
   "metadata": {},
   "outputs": [
    {
     "name": "stdout",
     "output_type": "stream",
     "text": [
      "Name\n",
      "courses\n",
      "phoneNumber\n"
     ]
    }
   ],
   "source": [
    "for key in student:\n",
    "    print(key)"
   ]
  },
  {
   "cell_type": "code",
   "execution_count": 125,
   "id": "87f9e638-5ee8-4545-b530-3dc31dad87ec",
   "metadata": {},
   "outputs": [
    {
     "name": "stdout",
     "output_type": "stream",
     "text": [
      "Name Aarav\n",
      "courses ['CS', 'Music']\n",
      "phoneNumber 9876543210\n"
     ]
    }
   ],
   "source": [
    "for key,value in student.items():\n",
    "    print(key,value)"
   ]
  },
  {
   "cell_type": "code",
   "execution_count": null,
   "id": "c6cb6690-ad3a-4d46-aa25-2b87b4530869",
   "metadata": {},
   "outputs": [],
   "source": []
  }
 ],
 "metadata": {
  "kernelspec": {
   "display_name": "Python 3 (ipykernel)",
   "language": "python",
   "name": "python3"
  },
  "language_info": {
   "codemirror_mode": {
    "name": "ipython",
    "version": 3
   },
   "file_extension": ".py",
   "mimetype": "text/x-python",
   "name": "python",
   "nbconvert_exporter": "python",
   "pygments_lexer": "ipython3",
   "version": "3.11.7"
  }
 },
 "nbformat": 4,
 "nbformat_minor": 5
}
