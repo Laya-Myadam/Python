{
 "cells": [
  {
   "cell_type": "code",
   "execution_count": 6,
   "id": "4ff36e89-38ce-4f8e-bed5-b413e5cddd1d",
   "metadata": {},
   "outputs": [
    {
     "name": "stdin",
     "output_type": "stream",
     "text": [
      "enter number of rows 5\n",
      "enter number of columns 9\n"
     ]
    },
    {
     "name": "stdout",
     "output_type": "stream",
     "text": [
      "*********\n",
      " ******* \n",
      "  *****  \n",
      "   ***   \n",
      "    *    \n"
     ]
    }
   ],
   "source": [
    "rows = int(input(\"enter number of rows\"))\n",
    "columns = int(input(\"enter number of columns\"))\n",
    "\n",
    "for i in range(0,rows):\n",
    "  for j in range(0,columns):\n",
    "    if j>=i and j<=(columns-i-1):\n",
    "      print(\"*\",end=\"\")\n",
    "    else:\n",
    "      print(\" \",end=\"\")\n",
    "\n",
    "  print()  "
   ]
  },
  {
   "cell_type": "code",
   "execution_count": 8,
   "id": "9d6d55f6-5f5c-4da5-97c7-cc18d823a210",
   "metadata": {},
   "outputs": [
    {
     "name": "stdin",
     "output_type": "stream",
     "text": [
      "enter number of rows 5\n",
      "enter number of columns 9\n"
     ]
    },
    {
     "name": "stdout",
     "output_type": "stream",
     "text": [
      "    *    \n",
      "   ***   \n",
      "  *****  \n",
      " ******* \n",
      "*********\n"
     ]
    }
   ],
   "source": [
    "rows = int(input(\"enter number of rows\"))\n",
    "columns = int(input(\"enter number of columns\"))\n",
    "\n",
    "for i in range(0,rows):\n",
    "    for j in range(0,columns):\n",
    "        if j>=(rows-1-i) and j<=(rows-1+i):\n",
    "            print(\"*\",end=\"\")\n",
    "        else:\n",
    "            print(\" \",end=\"\")\n",
    "\n",
    "    print()"
   ]
  },
  {
   "cell_type": "code",
   "execution_count": 25,
   "id": "8852a08f-06e1-4c57-b77a-5b7d1a82538c",
   "metadata": {},
   "outputs": [
    {
     "name": "stdin",
     "output_type": "stream",
     "text": [
      "enter number of rows 9\n",
      "enter number of columns 9\n"
     ]
    },
    {
     "name": "stdout",
     "output_type": "stream",
     "text": [
      "    *    \n",
      "   ***   \n",
      "  *****  \n",
      " ******* \n",
      "*********\n",
      " ******* \n",
      "  *****  \n",
      "   ***   \n",
      "    *    \n"
     ]
    }
   ],
   "source": [
    "rows = int(input(\"enter number of rows\"))\n",
    "columns = int(input(\"enter number of columns\"))\n",
    "\n",
    "n = int(rows/2)+1\n",
    "\n",
    "for i in range(0,n):\n",
    "    for j in range(0,columns):\n",
    "        if j>=(rows-n-i) and j<=(rows-n+i):\n",
    "            print(\"*\",end=\"\")\n",
    "        else:\n",
    "            print(\" \",end=\"\")\n",
    "\n",
    "    print()\n",
    "\n",
    "for i in range(n,rows):\n",
    "  for j in range(0,columns):\n",
    "    if j>=(i-rows+n) and j<=(rows-i+n-2):\n",
    "      print(\"*\",end=\"\")\n",
    "    else:\n",
    "      print(\" \",end=\"\")\n",
    "\n",
    "  print()  "
   ]
  },
  {
   "cell_type": "code",
   "execution_count": 14,
   "id": "963f769d-7165-46be-a128-105602fa3228",
   "metadata": {},
   "outputs": [
    {
     "name": "stdout",
     "output_type": "stream",
     "text": [
      "3\n"
     ]
    }
   ],
   "source": [
    "print(int(7/2))"
   ]
  },
  {
   "cell_type": "code",
   "execution_count": null,
   "id": "e2d261e2-29ed-4644-966f-5bc842b67e9a",
   "metadata": {},
   "outputs": [],
   "source": []
  }
 ],
 "metadata": {
  "kernelspec": {
   "display_name": "Python 3 (ipykernel)",
   "language": "python",
   "name": "python3"
  },
  "language_info": {
   "codemirror_mode": {
    "name": "ipython",
    "version": 3
   },
   "file_extension": ".py",
   "mimetype": "text/x-python",
   "name": "python",
   "nbconvert_exporter": "python",
   "pygments_lexer": "ipython3",
   "version": "3.11.7"
  }
 },
 "nbformat": 4,
 "nbformat_minor": 5
}
